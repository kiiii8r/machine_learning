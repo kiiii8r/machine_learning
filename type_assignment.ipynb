{
 "cells": [
  {
   "cell_type": "code",
   "execution_count": 2,
   "metadata": {},
   "outputs": [],
   "source": [
    "import pandas as pd\n",
    "import openpyxl as px\n",
    "from sklearn.model_selection import train_test_split\n",
    "from sklearn.ensemble import RandomForestRegressor\n",
    "from sklearn.metrics import mean_squared_error\n",
    "\n",
    "# データの読み込み\n",
    "data = pd.read_excel('data.xlsx')"
   ]
  },
  {
   "cell_type": "code",
   "execution_count": null,
   "metadata": {},
   "outputs": [],
   "source": [
    "# 概要を分割し、最初の3つを取得\n",
    "data[['概要1', '概要2', '概要3']] = data['概要'].str.split('，', expand=True).iloc[:, :3]\n",
    "data['概要1'] = data['概要1'].str.replace('（.*', '', regex=True)\n",
    "data['概要2'] = data['概要2'].str.replace('（.*', '', regex=True)\n",
    "data['概要3'] = data['概要3'].str.replace('（.*', '', regex=True)\n",
    "data"
   ]
  },
  {
   "cell_type": "code",
   "execution_count": null,
   "metadata": {},
   "outputs": [],
   "source": [
    "# ラベルエンコーディング\n",
    "# 種類と概要の全てのユニークな文字列に連番を付与\n",
    "type_columns = ['種類1', '種類2', '種類3']\n",
    "summary_columns = ['概要1', '概要2', '概要3']\n",
    "main_columns = ['主成分']\n",
    "class_columns = ['分類']\n",
    "\n",
    "# 連番リストとマッピングの作成\n",
    "def create_mapping(data, columns):\n",
    "    unique_values = pd.Series(pd.concat([data[col] for col in columns]).unique()).dropna()\n",
    "    return pd.Series(index=unique_values, data=range(1, len(unique_values) + 1))\n",
    "type_mapping = create_mapping(data, type_columns)\n",
    "summary_mapping = create_mapping(data, summary_columns)\n",
    "main_mapping = create_mapping(data, main_columns)\n",
    "class_mapping = create_mapping(data, class_columns)\n",
    "\n",
    "# Excel出力\n",
    "with pd.ExcelWriter('mappings.xlsx') as writer:\n",
    "    type_mapping.to_excel(writer, sheet_name='種類連番')\n",
    "    summary_mapping.to_excel(writer, sheet_name='概要連番')\n",
    "    main_mapping.to_excel(writer, sheet_name='主成分連番')\n",
    "    class_mapping.to_excel(writer, sheet_name='分類連番')\n",
    "\n",
    "# マッピングの適用\n",
    "for mapping in [type_mapping, summary_mapping, main_mapping, class_mapping]:\n",
    "    for col in type_columns:\n",
    "        data[col] = data[col].map(mapping)"
   ]
  },
  {
   "cell_type": "code",
   "execution_count": null,
   "metadata": {},
   "outputs": [],
   "source": [
    "# 0埋め\n",
    "data.fillna(0, inplace=True)"
   ]
  }
 ],
 "metadata": {
  "kernelspec": {
   "display_name": "pyenv",
   "language": "python",
   "name": "python3"
  },
  "language_info": {
   "codemirror_mode": {
    "name": "ipython",
    "version": 3
   },
   "file_extension": ".py",
   "mimetype": "text/x-python",
   "name": "python",
   "nbconvert_exporter": "python",
   "pygments_lexer": "ipython3",
   "version": "3.11.4"
  }
 },
 "nbformat": 4,
 "nbformat_minor": 2
}
